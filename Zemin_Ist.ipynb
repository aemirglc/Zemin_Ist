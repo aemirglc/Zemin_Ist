{
 "cells": [
  {
   "cell_type": "code",
   "execution_count": null,
   "id": "68375928-4aee-4352-bc23-7863e4a993d1",
   "metadata": {},
   "outputs": [],
   "source": [
    "import pandas as pd\n",
    "df = pd.read_csv(\"traffic_density_202001.csv\")"
   ]
  },
  {
   "cell_type": "code",
   "execution_count": null,
   "id": "f69de516-3077-48a7-ae23-6d1bd4b5e3ef",
   "metadata": {},
   "outputs": [],
   "source": [
    "df.shape"
   ]
  },
  {
   "cell_type": "code",
   "execution_count": null,
   "id": "ba6dee50-14d4-46c9-84ae-4f1d687417ae",
   "metadata": {},
   "outputs": [],
   "source": [
    "df.head()"
   ]
  },
  {
   "cell_type": "code",
   "execution_count": null,
   "id": "94879a8c-05ce-4566-9420-b47e68d3c392",
   "metadata": {},
   "outputs": [],
   "source": [
    "x = df[\"GEOHASH\"] == \"sxk9bk\""
   ]
  },
  {
   "cell_type": "code",
   "execution_count": null,
   "id": "d6cb204b-3b13-46cd-a64c-fa7f5d1bb77f",
   "metadata": {},
   "outputs": [],
   "source": [
    "x"
   ]
  },
  {
   "cell_type": "code",
   "execution_count": null,
   "id": "9718223e-6b78-4739-a617-b306214b3999",
   "metadata": {},
   "outputs": [],
   "source": [
    "df[x]"
   ]
  },
  {
   "cell_type": "code",
   "execution_count": null,
   "id": "f8db9901-7d88-4b42-892b-2f53fe8bfae9",
   "metadata": {},
   "outputs": [],
   "source": [
    "df2 = df[x]"
   ]
  },
  {
   "cell_type": "code",
   "execution_count": null,
   "id": "1cb7b64c-d506-4d46-b46c-09c65b117abe",
   "metadata": {},
   "outputs": [],
   "source": [
    "df2.head()"
   ]
  },
  {
   "cell_type": "code",
   "execution_count": null,
   "id": "a62a2cb5-73ad-4888-954e-a592b05d3c60",
   "metadata": {},
   "outputs": [],
   "source": [
    "import matplotlib.pyplot as plt"
   ]
  },
  {
   "cell_type": "code",
   "execution_count": null,
   "id": "4027ccc4-241d-4fe5-9f8e-4071b0f4926b",
   "metadata": {},
   "outputs": [],
   "source": [
    "plt.plot(df2.DATE_TIME[:50],df2.NUMBER_OF_VEHICLES[:50])"
   ]
  },
  {
   "cell_type": "code",
   "execution_count": null,
   "id": "0ebb2187-1d35-43e3-b853-b3b6a33317d1",
   "metadata": {},
   "outputs": [],
   "source": [
    "df2.info()"
   ]
  },
  {
   "cell_type": "code",
   "execution_count": null,
   "id": "1ab0e500-81a1-4b0d-b048-377cd8a8a653",
   "metadata": {},
   "outputs": [],
   "source": [
    "df = df2.drop([\"LONGITUDE\",\"LATITUDE\",\"GEOHASH\",\"MINIMUM_SPEED\",\"MAXIMUM_SPEED\",\"AVERAGE_SPEED\"], axis =1)"
   ]
  },
  {
   "cell_type": "code",
   "execution_count": null,
   "id": "f95deae3-83a3-4e9e-818b-fef52a1720eb",
   "metadata": {},
   "outputs": [],
   "source": [
    "df"
   ]
  },
  {
   "cell_type": "markdown",
   "id": "3a6591d0-0ae9-42e0-b123-0aaa77bf19fe",
   "metadata": {},
   "source": [
    "# KNN"
   ]
  },
  {
   "cell_type": "code",
   "execution_count": null,
   "id": "2750ade8-a167-4184-9f4c-9ecbda493f38",
   "metadata": {},
   "outputs": [],
   "source": [
    "from sklearn.neighbors import KNeighborsClassifier"
   ]
  },
  {
   "cell_type": "code",
   "execution_count": null,
   "id": "2885536f-4386-40d9-a58b-9f332e9d6db6",
   "metadata": {},
   "outputs": [],
   "source": [
    "model = KNeighborsClassifier(n_neighbors=3)"
   ]
  },
  {
   "cell_type": "code",
   "execution_count": null,
   "id": "0a036265-dcfe-4e95-a66c-6b3bcdac7499",
   "metadata": {},
   "outputs": [],
   "source": [
    "df.info()"
   ]
  },
  {
   "cell_type": "code",
   "execution_count": null,
   "id": "2099cbcf-23eb-4ab1-a1c3-a77017838dc7",
   "metadata": {},
   "outputs": [],
   "source": [
    "df['DATE_TIME']=pd.to_datetime(df['DATE_TIME'])"
   ]
  },
  {
   "cell_type": "code",
   "execution_count": null,
   "id": "8e006e7a-6d0b-4e85-a7f3-95b69dc5c2c1",
   "metadata": {},
   "outputs": [],
   "source": [
    "df.info()"
   ]
  },
  {
   "cell_type": "code",
   "execution_count": null,
   "id": "a8cfb3a7-d32f-4a0c-a98b-89385d74215b",
   "metadata": {},
   "outputs": [],
   "source": [
    "df"
   ]
  },
  {
   "cell_type": "code",
   "execution_count": null,
   "id": "4dd67b2c-e506-44cd-adf6-450a4580e098",
   "metadata": {},
   "outputs": [],
   "source": [
    "X=df['DATE_TIME']"
   ]
  },
  {
   "cell_type": "code",
   "execution_count": null,
   "id": "0e4e6529-60ad-43ad-bacd-523c8488e298",
   "metadata": {},
   "outputs": [],
   "source": [
    "y=df['NUMBER_OF_VEHICLES']"
   ]
  },
  {
   "cell_type": "code",
   "execution_count": null,
   "id": "48cf14fe-dc13-4b4c-beb6-371a9e1bfcca",
   "metadata": {},
   "outputs": [],
   "source": [
    "import numpy as np"
   ]
  },
  {
   "cell_type": "code",
   "execution_count": null,
   "id": "dd2d7fc6-39fb-41e9-91a2-f31ff0ae0240",
   "metadata": {},
   "outputs": [],
   "source": [
    "type(X)"
   ]
  },
  {
   "cell_type": "code",
   "execution_count": null,
   "id": "875c694f-3427-4f13-9b70-a636f3c10ebf",
   "metadata": {},
   "outputs": [],
   "source": [
    "X = np.array(X)"
   ]
  },
  {
   "cell_type": "code",
   "execution_count": null,
   "id": "7f19ee6a-dc4e-41b7-aa87-8370f689f0c7",
   "metadata": {},
   "outputs": [],
   "source": [
    "X"
   ]
  },
  {
   "cell_type": "code",
   "execution_count": null,
   "id": "c43e804a-b6a3-4f82-a8da-56ae1c336990",
   "metadata": {},
   "outputs": [],
   "source": [
    "X = X.reshape(-1,1)"
   ]
  },
  {
   "cell_type": "code",
   "execution_count": null,
   "id": "727e78b6-f7b8-4394-bc50-6d8e614ae724",
   "metadata": {},
   "outputs": [],
   "source": [
    "X"
   ]
  },
  {
   "cell_type": "code",
   "execution_count": null,
   "id": "19f3d47e-0c77-41b4-9686-1d26dac90daa",
   "metadata": {},
   "outputs": [],
   "source": [
    "model.fit(X,y)"
   ]
  },
  {
   "cell_type": "code",
   "execution_count": null,
   "id": "65d07d85-6cb0-4b6e-a3fe-cf3ce2d9ca31",
   "metadata": {},
   "outputs": [],
   "source": [
    "tahmin = model.predict(X)"
   ]
  },
  {
   "cell_type": "code",
   "execution_count": null,
   "id": "b4ee045b-1b32-4726-a00f-7c063e11bff5",
   "metadata": {},
   "outputs": [],
   "source": [
    "tahmin"
   ]
  },
  {
   "cell_type": "code",
   "execution_count": null,
   "id": "d2dafd9c-2bbd-43a6-8d64-f71465c7c2c5",
   "metadata": {},
   "outputs": [],
   "source": [
    "np.array(y)"
   ]
  },
  {
   "cell_type": "code",
   "execution_count": null,
   "id": "d04dc920-7391-42b5-99ba-31cbe9a3212e",
   "metadata": {},
   "outputs": [],
   "source": [
    "from sklearn.model_selection import train_test_split"
   ]
  },
  {
   "cell_type": "code",
   "execution_count": null,
   "id": "8981cf36-a9c7-45fd-8ade-16d7c0c5a30d",
   "metadata": {},
   "outputs": [],
   "source": [
    "X_train, X_test, y_train, y_test = train_test_split(X, y, test_size=0.3)"
   ]
  },
  {
   "cell_type": "code",
   "execution_count": null,
   "id": "af1cf3fb-ef8d-4929-8454-0651c30d9425",
   "metadata": {},
   "outputs": [],
   "source": [
    "X_train.shape"
   ]
  },
  {
   "cell_type": "code",
   "execution_count": null,
   "id": "562c9af4-83ab-498d-b3ce-d82d7a186f7b",
   "metadata": {},
   "outputs": [],
   "source": [
    "X_test.shape"
   ]
  },
  {
   "cell_type": "code",
   "execution_count": null,
   "id": "e32b2e6e-d675-4891-9e5e-32095e052fe8",
   "metadata": {},
   "outputs": [],
   "source": [
    "y_train.shape"
   ]
  },
  {
   "cell_type": "code",
   "execution_count": null,
   "id": "7f275726-d2f8-4728-8243-b48a302909a5",
   "metadata": {},
   "outputs": [],
   "source": [
    "y_test.shape"
   ]
  },
  {
   "cell_type": "code",
   "execution_count": null,
   "id": "5fd6f82f-dc9a-452b-a4e2-3d8008d6b8e8",
   "metadata": {},
   "outputs": [],
   "source": [
    "tahmin = model.predict(X_test)\n",
    "tahmin"
   ]
  },
  {
   "cell_type": "code",
   "execution_count": null,
   "id": "c7b19f10-bbec-4951-afbf-62c030d9fbe1",
   "metadata": {},
   "outputs": [],
   "source": [
    "np.array(y_test)"
   ]
  },
  {
   "cell_type": "code",
   "execution_count": null,
   "id": "fd947605-7114-40ce-b52a-05dc4b7fbd9f",
   "metadata": {},
   "outputs": [],
   "source": [
    "tahmin == np.array(y_test)"
   ]
  },
  {
   "cell_type": "code",
   "execution_count": null,
   "id": "b0ee9932-844c-4a9c-8770-ad1767fd3d16",
   "metadata": {},
   "outputs": [],
   "source": [
    "np.mean(tahmin == np.array(y_test))"
   ]
  },
  {
   "cell_type": "code",
   "execution_count": null,
   "id": "64858a4c-4295-467b-ba19-2146d0966b5c",
   "metadata": {},
   "outputs": [],
   "source": [
    "a=range(221)"
   ]
  },
  {
   "cell_type": "code",
   "execution_count": null,
   "id": "96d5aef5-c7b1-487c-98f1-1652d8cd0ef7",
   "metadata": {},
   "outputs": [],
   "source": [
    "x = plt.figure(figsize=(15,3))\n",
    "\n",
    "plt.plot(a,tahmin,\"b\", label=\"tahmin\")\n",
    "plt.plot(a,y_test,\"r\", label=\"gerçek\") \n",
    "plt.legend()\n",
    "\n",
    "plt.title(\"Tahmin/Gerçek\")"
   ]
  },
  {
   "cell_type": "markdown",
   "id": "657fc077-7a57-46de-ac8b-e8b99314b29c",
   "metadata": {},
   "source": [
    "# Linear Regression\n",
    "##### Kaynak -> https://www.kaggle.com/code/sudhirnl7/linear-regression-tutorial/notebook"
   ]
  },
  {
   "cell_type": "code",
   "execution_count": null,
   "id": "5e321cc3-9739-45ce-9581-7c647d59e7be",
   "metadata": {},
   "outputs": [],
   "source": [
    "import seaborn as sns"
   ]
  },
  {
   "cell_type": "code",
   "execution_count": null,
   "id": "9e988c96-5aa1-4676-82c6-1bcbb56b4e01",
   "metadata": {},
   "outputs": [],
   "source": [
    "plt.rcParams['figure.figsize'] = [8,5]\n",
    "plt.rcParams['font.size'] =14\n",
    "plt.rcParams['font.weight']= 'bold'\n",
    "plt.style.use('seaborn-whitegrid')"
   ]
  },
  {
   "cell_type": "code",
   "execution_count": null,
   "id": "dd63580e-1da2-4bf9-a86b-a2d619cec6f0",
   "metadata": {},
   "outputs": [],
   "source": [
    "df = pd.read_csv('insurance.csv')\n",
    "df.shape"
   ]
  },
  {
   "cell_type": "code",
   "execution_count": null,
   "id": "ff7038b6-aed1-4832-9663-47c965228c8c",
   "metadata": {},
   "outputs": [],
   "source": [
    "df.head()"
   ]
  },
  {
   "cell_type": "code",
   "execution_count": null,
   "id": "0f819122-b60a-46ad-aa7e-eaed1710309e",
   "metadata": {},
   "outputs": [],
   "source": [
    "sns.lmplot(x='bmi',y='charges',data=df,aspect=2,height=6)\n",
    "plt.xlabel('Vücut Kitle İndeksi $(kg/m^2)$: Bağımsız Değişken')\n",
    "plt.ylabel('Sigorta Ücreti: Bağımlı Değişken')\n",
    "plt.title('Ücret Vs Vücut Kitle İndeksi');"
   ]
  },
  {
   "cell_type": "code",
   "execution_count": null,
   "id": "aceae26d-3822-4573-854a-bd8ad11ca958",
   "metadata": {},
   "outputs": [],
   "source": [
    "df.describe()"
   ]
  },
  {
   "cell_type": "code",
   "execution_count": null,
   "id": "dd6ee8cc-1bbc-40a6-9a47-d1ea614103fe",
   "metadata": {},
   "outputs": [],
   "source": [
    "plt.figure(figsize=(12,4))\n",
    "sns.heatmap(df.isnull(),cbar=False,cmap='viridis',yticklabels=False)\n",
    "plt.title('Datasetteki eksik değerler');"
   ]
  },
  {
   "cell_type": "code",
   "execution_count": null,
   "id": "e048e19d-7cf0-4955-91f4-0c4a0ff82a0a",
   "metadata": {},
   "outputs": [],
   "source": [
    "corr = df.corr()\n",
    "sns.heatmap(corr, cmap = 'Wistia', annot= True);"
   ]
  },
  {
   "cell_type": "code",
   "execution_count": null,
   "id": "8f39fa07-2e5d-4709-b372-d3864a9e476b",
   "metadata": {},
   "outputs": [],
   "source": [
    "f= plt.figure(figsize=(12,4))\n",
    "\n",
    "ax=f.add_subplot(121)\n",
    "sns.distplot(df['charges'],bins=50,color='r',ax=ax)\n",
    "ax.set_title('Sigorta ücretlerinin dağıtımı')\n",
    "\n",
    "ax=f.add_subplot(122)\n",
    "sns.distplot(np.log10(df['charges']),bins=40,color='b',ax=ax)\n",
    "ax.set_title('Sigorta ücretlerinin $logaritmik$ ölçekte dağılımı')\n",
    "ax.set_xscale('log');"
   ]
  },
  {
   "cell_type": "code",
   "execution_count": null,
   "id": "eeb457de-a1fb-4bde-b782-9f20828837f4",
   "metadata": {},
   "outputs": [],
   "source": [
    "f = plt.figure(figsize=(14,6))\n",
    "ax = f.add_subplot(121)\n",
    "sns.violinplot(x='sex', y='charges',data=df,palette='Wistia',ax=ax)\n",
    "ax.set_title('Masraflar vs Cinsiyet')\n",
    "\n",
    "ax = f.add_subplot(122)\n",
    "sns.violinplot(x='smoker', y='charges',data=df,palette='magma',ax=ax)\n",
    "ax.set_title('Masraflar vs Sigara içen');"
   ]
  },
  {
   "cell_type": "code",
   "execution_count": null,
   "id": "fd28635b-299e-40b5-8638-11a2208df9e4",
   "metadata": {},
   "outputs": [],
   "source": [
    "plt.figure(figsize=(14,6))\n",
    "sns.boxplot(x='children', y='charges',hue='sex',data=df,palette='rainbow')\n",
    "plt.title('Masraflar vs çocuk');"
   ]
  },
  {
   "cell_type": "code",
   "execution_count": null,
   "id": "a15eefbd-641b-433a-9ed1-48ae0c656154",
   "metadata": {},
   "outputs": [],
   "source": [
    "df.groupby('children').agg(['mean','min','max'])['charges']"
   ]
  },
  {
   "cell_type": "code",
   "execution_count": null,
   "id": "f0d11503-d71b-4c11-b759-d94ded4a98ce",
   "metadata": {},
   "outputs": [],
   "source": [
    "plt.figure(figsize=(14,6))\n",
    "sns.violinplot(x='region', y='charges',hue='sex',data=df,palette='rainbow',split=True)\n",
    "plt.title('Violin plot of charges vs children');"
   ]
  },
  {
   "cell_type": "code",
   "execution_count": null,
   "id": "c4723676-022d-481a-96ce-e6c8f4fb953e",
   "metadata": {},
   "outputs": [],
   "source": [
    "f = plt.figure(figsize=(14,6))\n",
    "ax = f.add_subplot(121)\n",
    "sns.scatterplot(x='age',y='charges',data=df,palette='magma',hue='smoker',ax=ax)\n",
    "ax.set_title('Masraflar vs Yaş')\n",
    "\n",
    "ax = f.add_subplot(122)\n",
    "sns.scatterplot(x='bmi',y='charges',data=df,palette='viridis',hue='smoker')\n",
    "ax.set_title('Masraflar vs BMI')\n",
    "plt.savefig('sc.png');"
   ]
  },
  {
   "cell_type": "code",
   "execution_count": null,
   "id": "a134888a-04d4-4d0e-ace7-dd68c430a468",
   "metadata": {},
   "outputs": [],
   "source": [
    "categorical_columns = ['sex','children', 'smoker', 'region']\n",
    "df_encode = pd.get_dummies(data = df, prefix = 'OHE', prefix_sep='_',\n",
    "               columns = categorical_columns,\n",
    "               drop_first =True,\n",
    "              dtype='int8')"
   ]
  },
  {
   "cell_type": "code",
   "execution_count": null,
   "id": "8aa22846-5d53-424f-a992-5f230857dbb6",
   "metadata": {},
   "outputs": [],
   "source": [
    "print('DF Orijinal Columnları:\\n',df.columns.values)\n",
    "print('\\nDF Boyutu:',df.shape)\n",
    "print('\\nDF Encoding hali:\\n',df_encode.columns.values)\n",
    "print('\\nDF Encoding Boyutu:',df_encode.shape)"
   ]
  },
  {
   "cell_type": "code",
   "execution_count": null,
   "id": "5cb510e5-e0de-4296-857e-dc63d9a8a22d",
   "metadata": {},
   "outputs": [],
   "source": [
    "from scipy.stats import boxcox\n",
    "y_bc,lam, ci= boxcox(df_encode['charges'],alpha=0.05)\n",
    "\n",
    "ci,lam"
   ]
  },
  {
   "cell_type": "code",
   "execution_count": null,
   "id": "a00843ad-cb95-4097-a411-91c27b068301",
   "metadata": {},
   "outputs": [],
   "source": [
    "# Logaritma dönüşümü\n",
    "df_encode['charges'] = np.log(df_encode['charges'])"
   ]
  },
  {
   "cell_type": "code",
   "execution_count": null,
   "id": "797fd60a-86e6-495f-95fe-8c310e0b3aa6",
   "metadata": {},
   "outputs": [],
   "source": [
    "from sklearn.model_selection import train_test_split\n",
    "X = df_encode.drop('charges',axis=1) # Bağımsız değişken\n",
    "y = df_encode['charges'] # Bağımlı değişken\n",
    "\n",
    "X_train, X_test, y_train, y_test = train_test_split(X,y,test_size=0.3,random_state=23)"
   ]
  },
  {
   "cell_type": "code",
   "execution_count": null,
   "id": "02cf1cde-005b-45cd-b4c9-da14b992a5fb",
   "metadata": {},
   "outputs": [],
   "source": [
    "# Dataset'e x0 = 1 değeri ekliyoruz\n",
    "X_train_0 = np.c_[np.ones((X_train.shape[0],1)),X_train]\n",
    "X_test_0 = np.c_[np.ones((X_test.shape[0],1)),X_test]\n",
    "\n",
    "# Modeli kuruyoruz\n",
    "theta = np.matmul(np.linalg.inv(np.matmul(X_train_0.T,X_train_0) ), np.matmul(X_train_0.T,y_train)) "
   ]
  },
  {
   "cell_type": "code",
   "execution_count": null,
   "id": "204f4cd9-1b3d-4f66-9291-a45b3d8c3059",
   "metadata": {},
   "outputs": [],
   "source": [
    "# Doğrusal regresyon parametreleri\n",
    "parameter = ['theta_'+str(i) for i in range(X_train_0.shape[1])]\n",
    "columns = ['intersect:x_0=1'] + list(X.columns.values)\n",
    "parameter_df = pd.DataFrame({'Parameter':parameter,'Columns':columns,'theta':theta})"
   ]
  },
  {
   "cell_type": "code",
   "execution_count": null,
   "id": "067e4ef5-5083-458a-b845-c8987ff9249e",
   "metadata": {},
   "outputs": [],
   "source": [
    "# Scikit Learn \n",
    "from sklearn.linear_model import LinearRegression\n",
    "lin_reg = LinearRegression()\n",
    "lin_reg.fit(X_train,y_train)\n",
    "\n",
    "#Parametre\n",
    "sk_theta = [lin_reg.intercept_]+list(lin_reg.coef_)\n",
    "parameter_df = parameter_df.join(pd.Series(sk_theta, name='Sklearn_theta'))\n",
    "parameter_df"
   ]
  },
  {
   "cell_type": "code",
   "execution_count": null,
   "id": "f5eb3d73-dba1-4639-b019-b58777da27b2",
   "metadata": {},
   "outputs": [],
   "source": [
    "y_pred_norm =  np.matmul(X_test_0,theta)\n",
    "\n",
    "#Değerlendir: MSE\n",
    "J_mse = np.sum((y_pred_norm - y_test)**2)/ X_test_0.shape[0]\n",
    "\n",
    "# R_square \n",
    "sse = np.sum((y_pred_norm - y_test)**2)\n",
    "sst = np.sum((y_test - y_test.mean())**2)\n",
    "R_square = 1 - (sse/sst)\n",
    "print('Ortalama kare hatası (MSE) veya J(theta): ',J_mse)\n",
    "print('R kare :',R_square)"
   ]
  },
  {
   "cell_type": "code",
   "execution_count": null,
   "id": "e5c18675-d9c2-4cf6-b765-46051906ccaa",
   "metadata": {},
   "outputs": [],
   "source": [
    "y_pred_sk = lin_reg.predict(X_test)\n",
    "\n",
    "#Modeli değerlendirme\n",
    "from sklearn.metrics import mean_squared_error\n",
    "J_mse_sk = mean_squared_error(y_pred_sk, y_test)\n",
    "\n",
    "# R_square\n",
    "R_square_sk = lin_reg.score(X_test,y_test)\n",
    "print('Ortalama kare hatası (MSE) veya J(theta): ',J_mse_sk)\n",
    "print('R kare :',R_square_sk)"
   ]
  },
  {
   "cell_type": "code",
   "execution_count": null,
   "id": "6f59e50a-0f7b-4548-baa5-853695355b3a",
   "metadata": {},
   "outputs": [],
   "source": [
    "f = plt.figure(figsize=(14,5))\n",
    "ax = f.add_subplot(121)\n",
    "sns.scatterplot(y_test,y_pred_sk,ax=ax,color='r')\n",
    "ax.set_title('Doğrusallık:\\n Gerçek Vs Tahmini değer')\n",
    "\n",
    "# Check for Residual normality & mean\n",
    "ax = f.add_subplot(122)\n",
    "sns.distplot((y_test - y_pred_sk),ax=ax,color='b')\n",
    "ax.axvline((y_test - y_pred_sk).mean(),color='k',linestyle='--')\n",
    "ax.set_title('Normallik & Ortalama: \\n Ölçüm Hatası');"
   ]
  },
  {
   "cell_type": "code",
   "execution_count": null,
   "id": "bd2e3f93-ff1f-4592-a428-63e23711e38b",
   "metadata": {},
   "outputs": [],
   "source": [
    "f,ax = plt.subplots(1,2,figsize=(14,6))\n",
    "import scipy as sp\n",
    "_,(_,_,r)= sp.stats.probplot((y_test - y_pred_sk),fit=True,plot=ax[0])\n",
    "ax[0].set_title('Çok Değişkenli Normallik: \\nQ-Q Plot')\n",
    "\n",
    "sns.scatterplot(y = (y_test - y_pred_sk), x= y_pred_sk, ax = ax[1],color='r') \n",
    "ax[1].set_title('Homoskedastisiteyi kontrol edin: \\nArtık Vs Tahmin');"
   ]
  },
  {
   "cell_type": "code",
   "execution_count": null,
   "id": "72364436-9ded-4f72-9612-a5f001489f1a",
   "metadata": {},
   "outputs": [],
   "source": []
  }
 ],
 "metadata": {
  "kernelspec": {
   "display_name": "Python 3 (ipykernel)",
   "language": "python",
   "name": "python3"
  },
  "language_info": {
   "codemirror_mode": {
    "name": "ipython",
    "version": 3
   },
   "file_extension": ".py",
   "mimetype": "text/x-python",
   "name": "python",
   "nbconvert_exporter": "python",
   "pygments_lexer": "ipython3",
   "version": "3.9.7"
  }
 },
 "nbformat": 4,
 "nbformat_minor": 5
}
